{
 "cells": [
  {
   "cell_type": "code",
   "execution_count": 1,
   "metadata": {},
   "outputs": [],
   "source": [
    "import pandas as pd\n",
    "import numpy as np\n",
    "from copy import deepcopy\n",
    "import matplotlib.pyplot as plt\n",
    "import re"
   ]
  },
  {
   "cell_type": "code",
   "execution_count": 132,
   "metadata": {},
   "outputs": [
    {
     "data": {
      "text/plain": [
       "'/Users/mickey.poaro328/Desktop/projectB'"
      ]
     },
     "execution_count": 132,
     "metadata": {},
     "output_type": "execute_result"
    }
   ],
   "source": [
    "pwd"
   ]
  },
  {
   "cell_type": "code",
   "execution_count": 3,
   "metadata": {},
   "outputs": [],
   "source": [
    "cd /Users/mickey.poaro328/Desktop/projectB/SDMprojectMaterial"
   ]
  },
  {
   "cell_type": "code",
   "execution_count": 4,
   "metadata": {},
   "outputs": [],
   "source": [
    "cd /Users/mickey.poaro328/Desktop/projectB/SDMprojectMaterial/recipe"
   ]
  },
  {
   "cell_type": "code",
   "execution_count": 5,
   "metadata": {},
   "outputs": [],
   "source": [
    "cd .."
   ]
  },
  {
   "cell_type": "code",
   "execution_count": 6,
   "metadata": {},
   "outputs": [],
   "source": [
    "from glob import glob"
   ]
  },
  {
   "cell_type": "code",
   "execution_count": 7,
   "metadata": {},
   "outputs": [],
   "source": [
    "files = glob('recipe/*csv')\n",
    "files"
   ]
  },
  {
   "cell_type": "code",
   "execution_count": 8,
   "metadata": {},
   "outputs": [],
   "source": [
    "df = pd.read_csv(\"/Users/mickey.poaro328/Desktop/projectB/SDMprojectMaterial/recipe/recipe1998.csv\")\n",
    "print(df.head())"
   ]
  },
  {
   "cell_type": "raw",
   "metadata": {},
   "source": [
    "年ごとにパンケーキとホットケーキの数を抽出する（月ごとに変える予定）"
   ]
  },
  {
   "cell_type": "code",
   "execution_count": 39,
   "metadata": {},
   "outputs": [
    {
     "name": "stdout",
     "output_type": "stream",
     "text": [
      "       pan  hot\n",
      "year           \n",
      "1998     0    0\n",
      "1999     0    0\n",
      "2000     1    8\n",
      "2001    18    9\n",
      "2002    24   33\n",
      "2003    36  105\n",
      "2004    49  129\n",
      "2005    34  141\n",
      "2006    85  170\n",
      "2007   208  449\n",
      "2008   255  613\n",
      "2009   345  911\n",
      "2010   451  854\n",
      "2011   536  704\n",
      "2012   740  834\n",
      "2013  1192  832\n",
      "2014   998  721\n",
      "pan    4972\n",
      "hot    6513\n",
      "dtype: int64\n"
     ]
    },
    {
     "data": {
      "text/plain": [
       "Text(0.5, 1.0, 'count of each year')"
      ]
     },
     "execution_count": 39,
     "metadata": {},
     "output_type": "execute_result"
    },
    {
     "data": {
      "image/png": "[encoded data removed]",
      "text/plain": [
       "<Figure size 432x288 with 1 Axes>"
      ]
     },
     "metadata": {
      "needs_background": "light"
     },
     "output_type": "display_data"
    }
   ],
   "source": [
    "\n",
    "year = []\n",
    "pan_num = []\n",
    "hot_num = []\n",
    "recipe_num = []\n",
    "pan_per = []\n",
    "hot_per = []\n",
    "df1 = []\n",
    "df2 = []\n",
    "df3 = []\n",
    "for i in range(1998,2015):\n",
    "    year.append(i)\n",
    "    pan_num.append(i)\n",
    "    hot_num.append(i)\n",
    "    df1.append(i)\n",
    "    df2.append(i)\n",
    "    df3.append(i)\n",
    "    recipe_num.append(i)\n",
    "    \n",
    "\n",
    "for i in year:\n",
    "    df = pd.read_csv(f\"/Users/mickey.poaro328/Desktop/projectB/SDMprojectMaterial/recipe/recipe{i}.csv\",names=[\"title\"],usecols=[2])\n",
    "    df.dropna(inplace=True)\n",
    "    #パンケーキ、ホットケーキをそれぞれ抽出\n",
    "    pan = df.query('title.str.contains(\"パンケーキ\")',engine=\"python\")\n",
    "    pan2 = df.query('title.str.contains(\"ぱんけーき\")',engine=\"python\")\n",
    "    #一つのデータにまとめる\n",
    "    pan_num[i-1998]=pan.count()[\"title\"]+pan2.count()[\"title\"]\n",
    "    hot = df.query('title.str.contains(\"ホットケーキ\")',engine=\"python\")\n",
    "    hot2 = df.query('title.str.contains(\"ほっとけーき\")',engine=\"python\")\n",
    "    #一つのデータにまとめる\n",
    "    hot_num[i-1998]=hot.count()[\"title\"]+hot2.count()[\"title\"]\n",
    "    #割合を計算するために全体のレシピ数を用意しておく\n",
    "    recipe_num[i-1998] = df.count()[\"title\"]\n",
    "    #まずはレシピ数の比較用のデータ\n",
    "    df1[i-1998]={'year':year[i-1998],'pan':pan_num[i-1998],'hot':hot_num[i-1998]}\n",
    "    #次は割合を比較する用のデータ\n",
    "    df2[i-1998]={'year':year[i-1998],'pan':(pan_num[i-1998]/recipe_num[i-1998]),'hot':(hot_num[i-1998]/recipe_num[i-1998])}\n",
    "    #合わせた割合を求める用のデータ\n",
    "    df3[i-1998]={'year':year[i-1998],'sum':(pan_num[i-1998]+hot_num[i-1998])/recipe_num[i-1998]}\n",
    "    \n",
    "#表を作る\n",
    "data1 = pd.DataFrame(df1)\n",
    "data1 = data1.set_index('year')\n",
    "data2 = pd.DataFrame(df2)\n",
    "data2 = data2.set_index('year')\n",
    "data5 = pd.DataFrame(df3)\n",
    "data5 = data5.set_index('year')\n",
    "print(data1)\n",
    "\n",
    "print(data1.sum())\n",
    "\n",
    "#グラフを作る\n",
    "%matplotlib inline\n",
    "plt.plot(list(data1.index), data[\"pan\"], label='pan')\n",
    "plt.plot(list(data1.index), data[\"hot\"], label='hot')\n",
    "plt.xlabel(\"year\",size=12)\n",
    "plt.ylabel(\"recipe count\",size=12)\n",
    "plt.title(\"count of each year\")"
   ]
  },
  {
   "cell_type": "code",
   "execution_count": 18,
   "metadata": {},
   "outputs": [
    {
     "data": {
      "text/plain": [
       "Text(0.5, 1.0, 'percentage of each year')"
      ]
     },
     "execution_count": 18,
     "metadata": {},
     "output_type": "execute_result"
    },
    {
     "data": {
      "image/png": "[encoded data removed]",
      "text/plain": [
       "<Figure size 432x288 with 1 Axes>"
      ]
     },
     "metadata": {
      "needs_background": "light"
     },
     "output_type": "display_data"
    }
   ],
   "source": [
    "#割合のグラフを作る\n",
    "%matplotlib inline\n",
    "plt.plot(list(data2.index), data[\"pan\"], label='pan')\n",
    "plt.plot(list(data2.index), data[\"hot\"], label='hot')\n",
    "plt.xlabel(\"year\",size=12)\n",
    "plt.ylabel(\"recipe count\",size=12)\n",
    "plt.title(\"percentage of each year\")"
   ]
  },
  {
   "cell_type": "code",
   "execution_count": 21,
   "metadata": {},
   "outputs": [
    {
     "name": "stdout",
     "output_type": "stream",
     "text": [
      "           pan       hot\n",
      "year                    \n",
      "1998  0.000000  0.000000\n",
      "1999  0.000000  0.000000\n",
      "2000  0.000222  0.001779\n",
      "2001  0.001830  0.000915\n",
      "2002  0.001830  0.002516\n",
      "2003  0.001803  0.005257\n",
      "2004  0.002289  0.006025\n",
      "2005  0.001423  0.005900\n",
      "2006  0.001800  0.003601\n",
      "2007  0.001947  0.004203\n",
      "2008  0.001765  0.004242\n",
      "2009  0.001689  0.004459\n",
      "2010  0.002054  0.003890\n",
      "2011  0.002677  0.003516\n",
      "2012  0.002935  0.003308\n",
      "2013  0.005062  0.003533\n",
      "2014  0.004704  0.003399\n",
      "         pan      hot\n",
      "pan  1.00000  0.40121\n",
      "hot  0.40121  1.00000\n",
      "<class 'pandas.core.frame.DataFrame'>\n"
     ]
    }
   ],
   "source": [
    "#相関関係を調べる\n",
    "print(data2)\n",
    "\n",
    "df_corr = data2.corr()\n",
    "print(df_corr)"
   ]
  },
  {
   "cell_type": "code",
   "execution_count": 27,
   "metadata": {},
   "outputs": [
    {
     "name": "stdout",
     "output_type": "stream",
     "text": [
      "          pan       hot\n",
      "pan  1.000000 -0.648116\n",
      "hot -0.648116  1.000000\n",
      "          pan       hot\n",
      "pan  1.000000  0.728791\n",
      "hot  0.728791  1.000000\n"
     ]
    }
   ],
   "source": [
    "data3=data2.query('year>2008')\n",
    "\n",
    "df_corr2 = data3.corr()\n",
    "print(df_corr2)\n",
    "\n",
    "data4=data2.query('year<2009')\n",
    "\n",
    "df_corr3 = data4.corr()\n",
    "print(df_corr3)"
   ]
  },
  {
   "cell_type": "code",
   "execution_count": 41,
   "metadata": {},
   "outputs": [
    {
     "name": "stdout",
     "output_type": "stream",
     "text": [
      "           sum\n",
      "year          \n",
      "1998  0.000000\n",
      "1999  0.000000\n",
      "2000  0.002001\n",
      "2001  0.002745\n",
      "2002  0.004345\n",
      "2003  0.007060\n",
      "2004  0.008314\n",
      "2005  0.007323\n",
      "2006  0.005401\n",
      "2007  0.006149\n",
      "2008  0.006006\n",
      "2009  0.006147\n",
      "2010  0.005945\n",
      "2011  0.006193\n",
      "2012  0.006243\n",
      "2013  0.008596\n",
      "2014  0.008103\n"
     ]
    },
    {
     "data": {
      "text/plain": [
       "Text(0.5, 1.0, 'sum percentage of each year')"
      ]
     },
     "execution_count": 41,
     "metadata": {},
     "output_type": "execute_result"
    },
    {
     "data": {
      "image/png": "[encoded data removed]",
      "text/plain": [
       "<Figure size 432x288 with 1 Axes>"
      ]
     },
     "metadata": {
      "needs_background": "light"
     },
     "output_type": "display_data"
    }
   ],
   "source": [
    "print(data5)\n",
    "\n",
    "%matplotlib inline\n",
    "plt.plot(list(data5.index), data5[\"sum\"], label='sum')\n",
    "plt.xlabel(\"year\",size=12)\n",
    "plt.ylabel(\"recipe count\",size=12)\n",
    "plt.title(\"sum percentage of each year\")"
   ]
  },
  {
   "cell_type": "code",
   "execution_count": 250,
   "metadata": {},
   "outputs": [
    {
     "name": "stderr",
     "output_type": "stream",
     "text": [
      "/Users/mickey.poaro328/opt/anaconda3/lib/python3.7/site-packages/pandas/core/indexing.py:670: SettingWithCopyWarning: \n",
      "A value is trying to be set on a copy of a slice from a DataFrame\n",
      "\n",
      "See the caveats in the documentation: https://pandas.pydata.org/pandas-docs/stable/user_guide/indexing.html#returning-a-view-versus-a-copy\n",
      "  self._setitem_with_indexer(indexer, value)\n"
     ]
    },
    {
     "name": "stdout",
     "output_type": "stream",
     "text": [
      "パンケーキの平均\n",
      "6.019176423092451\n",
      "ホットケーキの平均\n",
      "6.720511241145673\n"
     ]
    },
    {
     "data": {
      "text/plain": [
       "Text(0.5, 1.0, 'pancake report')"
      ]
     },
     "execution_count": 250,
     "metadata": {},
     "output_type": "execute_result"
    },
    {
     "data": {
      "image/png": "[encoded data removed]",
      "text/plain": [
       "<Figure size 432x288 with 1 Axes>"
      ]
     },
     "metadata": {
      "needs_background": "light"
     },
     "output_type": "display_data"
    }
   ],
   "source": [
    "#レシピのデータとつくれぽを結びつける\n",
    "\n",
    "#まずはレポートのデータを読み込む\n",
    "report = pd.DataFrame(columns=[\"ID\"])\n",
    "\n",
    "for i in year:\n",
    "    report_temp = pd.read_csv(f\"/Users/mickey.poaro328/Desktop/projectB/SDMprojectMaterial/report/report{i}.csv\",names=[\"ID\"],usecols=[0])\n",
    "    report = pd.concat([report, report_temp])\n",
    "\n",
    "vc = report['ID'].value_counts()\n",
    "\n",
    "count={'count'}\n",
    "n1=[]\n",
    "n2=[]\n",
    "for i in year:\n",
    "    #レシピ、つくれぽのデータから必要なデータを所得\n",
    "    recipe = pd.read_csv(f\"/Users/mickey.poaro328/Desktop/projectB/SDMprojectMaterial/recipe/recipe{i}.csv\",names=[\"ID\",\"title\"],usecols=[0,2])\n",
    "    recipe.fillna(0)\n",
    "    #まずレシピのパンケーキ分のデータだけ先に抽出\n",
    "    pan_recipe = recipe.query('title.str.contains(\"パンケーキ\",\"ぱんけーき\",na=False)',engine=\"python\")\n",
    "    df = pan_recipe.assign(report_number=0)\n",
    "    \n",
    "    for j in range(len(df)):\n",
    "        try:\n",
    "            df[\"report_number\"].iloc[j] = vc[df[\"ID\"].iloc[j]]\n",
    "        except:\n",
    "            continue\n",
    "    \n",
    "    n1 = np.append(n1, df.loc[:, \"report_number\"].values)\n",
    "\n",
    "    #同様のことをホットケーキに対しても行う\n",
    "    \n",
    "    \n",
    "    hot_recipe = recipe.query('title.str.contains(\"ホットケーキ\",\"ほっとけーき\",na=False)',engine=\"python\")\n",
    "    df_2 = hot_recipe.assign(report_number=0)\n",
    "    \n",
    "    for j in range(len(df)):\n",
    "        try:\n",
    "            df_2[\"report_number\"].iloc[j] = vc[df_2[\"ID\"].iloc[j]]\n",
    "        except:\n",
    "            continue\n",
    "    \n",
    "    n2 = np.append(n2, df_2.loc[:, \"report_number\"].values)\n",
    "\n",
    "print(\"パンケーキの平均\")\n",
    "print(n1.mean())\n",
    "print(\"ホットケーキの平均\")\n",
    "print(n2.mean())\n",
    "\n",
    "plt.hist(n1, bins=100)\n",
    "plt.xlabel(\"report count\",size=12)\n",
    "plt.ylabel(\"recipe count\",size=12)\n",
    "plt.title(\"pancake report\")"
   ]
  },
  {
   "cell_type": "code",
   "execution_count": 252,
   "metadata": {},
   "outputs": [
    {
     "data": {
      "text/plain": [
       "Text(0.5, 1.0, 'pancake above 100')"
      ]
     },
     "execution_count": 252,
     "metadata": {},
     "output_type": "execute_result"
    },
    {
     "data": {
      "image/png": "[encoded data removed]",
      "text/plain": [
       "<Figure size 432x288 with 1 Axes>"
      ]
     },
     "metadata": {
      "needs_background": "light"
     },
     "output_type": "display_data"
    }
   ],
   "source": [
    "#パンケーキレシピ100以上のもの\n",
    "number_above100 = []\n",
    "for i in range(len(n1)):\n",
    "    if n1[i] > 100:\n",
    "        number_above100.append(n1[i])\n",
    "plt.hist(number_above100, bins=100,range=(100, 2500))\n",
    "plt.xlabel(\"report count\",size=12)\n",
    "plt.ylabel(\"recipe count\",size=12)\n",
    "plt.title(\"pancake above 100\")"
   ]
  },
  {
   "cell_type": "code",
   "execution_count": null,
   "metadata": {},
   "outputs": [],
   "source": []
  },
  {
   "cell_type": "code",
   "execution_count": 7,
   "metadata": {},
   "outputs": [
    {
     "ename": "NameError",
     "evalue": "name 'x' is not defined",
     "output_type": "error",
     "traceback": [
      "\u001b[0;31m---------------------------------------------------------------------------\u001b[0m",
      "\u001b[0;31mNameError\u001b[0m                                 Traceback (most recent call last)",
      "\u001b[0;32m<ipython-input-7-438673cace35>\u001b[0m in \u001b[0;36m<module>\u001b[0;34m\u001b[0m\n\u001b[1;32m      2\u001b[0m \u001b[0;34m\u001b[0m\u001b[0m\n\u001b[1;32m      3\u001b[0m \u001b[0mmodel_lr\u001b[0m \u001b[0;34m=\u001b[0m \u001b[0mLinearRegression\u001b[0m\u001b[0;34m(\u001b[0m\u001b[0;34m)\u001b[0m\u001b[0;34m\u001b[0m\u001b[0;34m\u001b[0m\u001b[0m\n\u001b[0;32m----> 4\u001b[0;31m \u001b[0mmodel_lr\u001b[0m\u001b[0;34m.\u001b[0m\u001b[0mfit\u001b[0m\u001b[0;34m(\u001b[0m\u001b[0mx\u001b[0m\u001b[0;34m,\u001b[0m \u001b[0my\u001b[0m\u001b[0;34m)\u001b[0m\u001b[0;34m\u001b[0m\u001b[0;34m\u001b[0m\u001b[0m\n\u001b[0m",
      "\u001b[0;31mNameError\u001b[0m: name 'x' is not defined"
     ]
    }
   ],
   "source": [
    "from sklearn.linear_model import LinearRegression\n",
    "\n",
    "model_lr = LinearRegression()\n",
    "model_lr.fit(x, y)"
   ]
  },
  {
   "cell_type": "code",
   "execution_count": 60,
   "metadata": {},
   "outputs": [
    {
     "data": {
      "text/plain": [
       "Text(0.5, 1.0, 'avove 10')"
      ]
     },
     "execution_count": 60,
     "metadata": {},
     "output_type": "execute_result"
    },
    {
     "data": {
      "image/png": "[encoded data removed]",
      "text/plain": [
       "<Figure size 432x288 with 1 Axes>"
      ]
     },
     "metadata": {
      "needs_background": "light"
     },
     "output_type": "display_data"
    }
   ],
   "source": [
    "number_avove10 = []\n",
    "for i in range(len(number)):\n",
    "    if number[i]>10 & number[i]<100:\n",
    "        number_avove10.append(number[i])\n",
    "plt.hist(number_avove10, bins=100)\n",
    "plt.title(\"avove 10\")"
   ]
  },
  {
   "cell_type": "code",
   "execution_count": 251,
   "metadata": {},
   "outputs": [
    {
     "data": {
      "text/plain": [
       "Text(0.5, 1.0, 'hotcake above 100')"
      ]
     },
     "execution_count": 251,
     "metadata": {},
     "output_type": "execute_result"
    },
    {
     "data": {
      "image/png": "[encoded data removed]",
      "text/plain": [
       "<Figure size 432x288 with 1 Axes>"
      ]
     },
     "metadata": {
      "needs_background": "light"
     },
     "output_type": "display_data"
    }
   ],
   "source": [
    "#ホットケーキレシピ100以上\n",
    "number_2_above100 = []\n",
    "for i in range(len(n2)):\n",
    "    if n2[i] > 100 :\n",
    "        number_2_above100.append(n2[i])\n",
    "plt.hist(number_2_above100, bins=100, range=(100, 2500))\n",
    "plt.xlabel(\"report count\",size=12)\n",
    "plt.ylabel(\"recipe count\",size=12)\n",
    "plt.title(\"hotcake above 100\")"
   ]
  },
  {
   "cell_type": "code",
   "execution_count": null,
   "metadata": {},
   "outputs": [],
   "source": []
  },
  {
   "cell_type": "code",
   "execution_count": 81,
   "metadata": {},
   "outputs": [
    {
     "name": "stdout",
     "output_type": "stream",
     "text": [
      "0\n",
      "0\n",
      "1\n",
      "19\n",
      "43\n",
      "79\n",
      "128\n",
      "162\n",
      "248\n",
      "456\n",
      "711\n",
      "1056\n",
      "1508\n",
      "2045\n",
      "2786\n",
      "3980\n",
      "4979\n",
      "4979\n",
      "6513\n"
     ]
    }
   ],
   "source": [
    "#パンケーキ、ホットケーキの材料の違いを比較する\n",
    "#まず材料データとレシピデータを取得する\n",
    "pan_recipe= pd.DataFrame(columns=[\"ID\"])\n",
    "hot_recipe = pd.DataFrame(columns=[\"ID\"])\n",
    "for i in year:\n",
    "    recipe = pd.read_csv(f\"/Users/mickey.poaro328/Desktop/projectB/SDMprojectMaterial/recipe/recipe{i}.csv\",names=[\"ID\",\"title\"],usecols=[0,2])\n",
    "    recipe.fillna(0)\n",
    "    ingredient = pd.read_csv(f\"/Users/mickey.poaro328/Desktop/projectB/SDMprojectMaterial/ingredient/ingredient{i}.csv\",names=[\"ID\",\"item\"],usecols=[0,1])\n",
    "    recipe.fillna(0)\n",
    "    vc2 = ingredient['item'].value_counts()\n",
    "    #レシピデータからパンケーキのデータを抽出\n",
    "    p_recipe = recipe.query('title.str.contains(\"パンケーキ\",na=False)',engine=\"python\")\n",
    "    p_recipe2 = recipe.query('title.str.contains(\"ぱんけーき\",na=False)',engine=\"python\")\n",
    "    p_recipe3 = recipe.query('title.str.contains(\"pancake\",na=False)',engine=\"python\")\n",
    "    pan_recipe = pd.concat([pan_recipe, p_recipe])\n",
    "    pan_recipe = pd.concat([pan_recipe, p_recipe2])\n",
    "    pan_recipe = pd.concat([pan_recipe, p_recipe3])\n",
    "    print(len(pan_recipe))\n",
    "    #レシピデータからホットケーキのデータを抽出\n",
    "    h_recipe = recipe.query('title.str.contains(\"ホットケーキ\",na=False)',engine=\"python\")\n",
    "    h_recipe2 = recipe.query('title.str.contains(\"ほっとけーき\",na=False)',engine=\"python\")\n",
    "    h_recipe3 = recipe.query('title.str.contains(\"hot cake\",na=False)',engine=\"python\")\n",
    "    hot_recipe = pd.concat([hot_recipe, h_recipe])\n",
    "    hot_recipe = pd.concat([hot_recipe, h_recipe2])\n",
    "    \n",
    "print(len(pan_recipe))\n",
    "print(len(hot_recipe))\n",
    "    "
   ]
  },
  {
   "cell_type": "code",
   "execution_count": 98,
   "metadata": {},
   "outputs": [
    {
     "name": "stdout",
     "output_type": "stream",
     "text": [
      "                                             ID       item\n",
      "0      0019d0ab799508945c164b42d00c812e90219330    ＜パンケーキ＞\n",
      "1      0019d0ab799508945c164b42d00c812e90219330        小麦粉\n",
      "2      0019d0ab799508945c164b42d00c812e90219330  ベーキングパウダー\n",
      "3      0019d0ab799508945c164b42d00c812e90219330         砂糖\n",
      "4      0019d0ab799508945c164b42d00c812e90219330          塩\n",
      "...                                         ...        ...\n",
      "10819  360bb27a90428d7b97cf636b3545de7c1db4a5bf        NaN\n",
      "10820  abf26ed2cd503347c24a24d3e487d6ccd6cb40e8        NaN\n",
      "10821  55f23f044b571a322b4590511d49e95b3b165093        NaN\n",
      "10822  61e45d19f35a0048bdb0e6ec15d17654eb5a5e6e        NaN\n",
      "10823  2d3ec8f17e66541c45609fad1e32d635b3513994        NaN\n",
      "\n",
      "[10824 rows x 2 columns]\n",
      "1546742 10824\n"
     ]
    }
   ],
   "source": [
    "pan_ID=pan_recipe.drop([\"title\"],axis=1)\n",
    "df_pan = pd.merge(ingredient,pan_ID, on=\"ID\", how=\"right\")\n",
    "print(df_pan)\n",
    "print(len(ingredient), len(df_pan))"
   ]
  },
  {
   "cell_type": "code",
   "execution_count": 99,
   "metadata": {},
   "outputs": [
    {
     "name": "stdout",
     "output_type": "stream",
     "text": [
      "卵                486\n",
      "牛乳               429\n",
      "ホットケーキミックス       275\n",
      "砂糖               246\n",
      "ベーキングパウダー        243\n",
      "薄力粉              139\n",
      "塩                119\n",
      "小麦粉              115\n",
      "バター              114\n",
      "バナナ              105\n",
      "ヨーグルト             94\n",
      "水                 83\n",
      "サラダ油              82\n",
      "豆乳                79\n",
      "バニラエッセンス          60\n",
      "パンケーキミックス         48\n",
      "強力粉               45\n",
      "たまご               45\n",
      "メープルシロップ          43\n",
      "生クリーム             42\n",
      "米粉                41\n",
      "油                 39\n",
      "はちみつ              39\n",
      "プレーンヨーグルト         35\n",
      "レモン汁              33\n",
      "溶かしバター            26\n",
      "卵白                24\n",
      "豆腐                22\n",
      "卵黄                22\n",
      "マヨネーズ             22\n",
      "☆ベーキングパウダー        22\n",
      "玉子                21\n",
      "トッピング             21\n",
      "☆砂糖               21\n",
      "粉砂糖               20\n",
      "BP                19\n",
      "マーガリン             19\n",
      "全粒粉               18\n",
      "オリーブオイル           18\n",
      "いちご               17\n",
      "蜂蜜                17\n",
      "ハチミツ              17\n",
      "人参                16\n",
      "じゃがいも             16\n",
      "きび砂糖              16\n",
      "片栗粉               16\n",
      "ホイップクリーム          15\n",
      "グラニュー糖            15\n",
      "シナモン              15\n",
      "★卵                14\n",
      "☆塩                14\n",
      "玉ねぎ               14\n",
      "☆薄力粉              14\n",
      "コストコパンケーキミックス     14\n",
      "パンケーキ             14\n",
      "絹ごし豆腐             13\n",
      "おから               13\n",
      "ベーコン              13\n",
      "HM                13\n",
      "Name: pan item, dtype: int64\n"
     ]
    }
   ],
   "source": [
    "df_pan.drop(\"ID\", axis=1, inplace=True)\n",
    "s1=df_pan[\"item\"].value_counts()[:59]\n",
    "s1.name='pan item'\n",
    "print(s1)"
   ]
  },
  {
   "cell_type": "code",
   "execution_count": null,
   "metadata": {},
   "outputs": [],
   "source": []
  },
  {
   "cell_type": "code",
   "execution_count": 100,
   "metadata": {},
   "outputs": [
    {
     "name": "stdout",
     "output_type": "stream",
     "text": [
      "                                         ID        item\n",
      "0  008ae77732a79ee72a84be85d51344eeff953f55  ホットケーキミックス\n",
      "1  008ae77732a79ee72a84be85d51344eeff953f55          豆腐\n",
      "2  008ae77732a79ee72a84be85d51344eeff953f55     豆乳もしくは水\n",
      "3  00bbb5e6e0d75b8a1a940e1f681ed98684862f38  ホットケーキミックス\n",
      "4  00bbb5e6e0d75b8a1a940e1f681ed98684862f38           卵\n",
      "1546742 9963\n"
     ]
    }
   ],
   "source": [
    "hot_ID=hot_recipe.drop([\"title\"],axis=1)\n",
    "df_hot = pd.merge(ingredient,hot_ID, on=\"ID\", how=\"right\")\n",
    "print(df_hot.head())\n",
    "print(len(ingredient), len(df_hot))"
   ]
  },
  {
   "cell_type": "code",
   "execution_count": 101,
   "metadata": {},
   "outputs": [
    {
     "name": "stdout",
     "output_type": "stream",
     "text": [
      "ホットケーキミックス     441\n",
      "卵              383\n",
      "牛乳             382\n",
      "砂糖             202\n",
      "ベーキングパウダー       99\n",
      "バター             97\n",
      "サラダ油            74\n",
      "薄力粉             66\n",
      "塩               55\n",
      "水               41\n",
      "バナナ             40\n",
      "小麦粉             37\n",
      "油               33\n",
      "たまご             30\n",
      "ヨーグルト           28\n",
      "バニラエッセンス        27\n",
      "豆乳              26\n",
      "マヨネーズ           24\n",
      "玉子              21\n",
      "生クリーム           20\n",
      "オリーブオイル         19\n",
      "はちみつ            18\n",
      "溶かしバター          18\n",
      "マーガリン           17\n",
      "メープルシロップ        16\n",
      "豆腐              16\n",
      "板チョコ            14\n",
      "HM              13\n",
      "ホットケーキ          13\n",
      "☆牛乳             12\n",
      "卵白              12\n",
      "レモン汁            12\n",
      "ケチャップ           11\n",
      "グラニュー糖          11\n",
      "スライスチーズ         11\n",
      "☆卵              10\n",
      "ベーコン            10\n",
      "卵(M)            10\n",
      "強力粉             10\n",
      "卵黄              10\n",
      "絹ごし豆腐           10\n",
      "★牛乳             10\n",
      "おから              9\n",
      "ココア              9\n",
      "チョコチップ           9\n",
      "ハチミツ             9\n",
      "ハム               9\n",
      "揚げ油              9\n",
      "片栗粉              9\n",
      "☆ホットケーキミックス      9\n",
      "玉ねぎ              9\n",
      "りんご              8\n",
      "粉砂糖              8\n",
      "ココアパウダー          8\n",
      "抹茶               8\n",
      "☆砂糖              8\n",
      "牛乳or豆乳           7\n",
      "★卵               7\n",
      "バターorマーガリン       7\n",
      "Name: hot_item, dtype: int64\n"
     ]
    }
   ],
   "source": [
    "df_hot.drop(\"ID\", axis=1, inplace=True)\n",
    "s2=df_hot[\"item\"].value_counts()[:59]\n",
    "s2.name='hot_item'\n",
    "print(s2)"
   ]
  },
  {
   "cell_type": "code",
   "execution_count": 108,
   "metadata": {},
   "outputs": [
    {
     "name": "stdout",
     "output_type": "stream",
     "text": [
      "          pan item  hot_item\n",
      "pan item  1.000000  0.915471\n",
      "hot_item  0.915471  1.000000\n"
     ]
    }
   ],
   "source": [
    "#材料の二つのものを連結させ相関係数をえる\n",
    "s3=pd.concat([s1, s2], axis=1)\n",
    "s4=s3.fillna(0)\n",
    "s5 = s4.corr()\n",
    "print(s5)"
   ]
  },
  {
   "cell_type": "code",
   "execution_count": 47,
   "metadata": {},
   "outputs": [
    {
     "data": {
      "text/plain": [
       "Text(0.5, 1.0, 'above 100')"
      ]
     },
     "execution_count": 47,
     "metadata": {},
     "output_type": "execute_result"
    },
    {
     "data": {
      "image/png": "[encoded data removed]",
      "text/plain": [
       "<Figure size 432x288 with 1 Axes>"
      ]
     },
     "metadata": {
      "needs_background": "light"
     },
     "output_type": "display_data"
    }
   ],
   "source": [
    "number_above100 = []\n",
    "for i in range(len(number)):\n",
    "    if number[i] > 100:\n",
    "        number_above100.append(number[i])\n",
    "plt.hist(number_above100, bins=100)\n",
    "plt.title(\"above 100\")"
   ]
  },
  {
   "cell_type": "code",
   "execution_count": null,
   "metadata": {},
   "outputs": [],
   "source": []
  }
 ],
 "metadata": {
  "kernelspec": {
   "display_name": "Python 3",
   "language": "python",
   "name": "python3"
  },
  "language_info": {
   "codemirror_mode": {
    "name": "ipython",
    "version": 3
   },
   "file_extension": ".py",
   "mimetype": "text/x-python",
   "name": "python",
   "nbconvert_exporter": "python",
   "pygments_lexer": "ipython3",
   "version": "3.7.6"
  }
 },
 "nbformat": 4,
 "nbformat_minor": 4
}
