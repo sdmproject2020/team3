{
 "cells": [
  {
   "cell_type": "code",
   "execution_count": 1,
   "metadata": {},
   "outputs": [],
   "source": [
    "import numpy as np\n",
    "import matplotlib.pyplot as plt\n",
    "import pandas as pd\n",
    "import re\n",
    "from tqdm import tqdm"
   ]
  },
  {
   "cell_type": "markdown",
   "metadata": {},
   "source": [
    "# オリーブオイルと組み合わせが良い（よく使われる）食材を知る"
   ]
  },
  {
   "cell_type": "markdown",
   "metadata": {},
   "source": [
    "### 最初にオリーブオイルを使ったレシピのつくレポ数の分布を描画する"
   ]
  },
  {
   "cell_type": "code",
   "execution_count": 2,
   "metadata": {},
   "outputs": [],
   "source": [
    "year = []\n",
    "for i in range(1998, 2015):\n",
    "    year.append(i)\n",
    "\n",
    "col_names_ingredient = [\"recipe_id\", \"ingredient\"]\n",
    "col_names_report = [\"recipe_id\"]"
   ]
  },
  {
   "cell_type": "markdown",
   "metadata": {},
   "source": [
    "reportファイルも年別に分けて分析してたけど、つくレポは年またぐこと全然ありえることにやっと気がついた"
   ]
  },
  {
   "cell_type": "code",
   "execution_count": 3,
   "metadata": {},
   "outputs": [],
   "source": [
    "# reportファイルを読み込む\n",
    "report = pd.DataFrame(columns=[\"recipe_id\"])\n",
    "\n",
    "for i in year:\n",
    "    report_temp = pd.read_csv(f\"/Users/tamuramasayuki/Desktop/3S/基礎プロジェクトB/programming/dataset/report 2/report{i}.csv\",\n",
    "                              names=col_names_report, usecols=[0])\n",
    "\n",
    "    report = pd.concat([report, report_temp])\n",
    "\n",
    "vc = report['recipe_id'].value_counts()"
   ]
  },
  {
   "cell_type": "code",
   "execution_count": 4,
   "metadata": {},
   "outputs": [
    {
     "name": "stderr",
     "output_type": "stream",
     "text": [
      "  6%|▌         | 2/34 [00:00<00:06,  4.59it/s]/Users/tamuramasayuki/opt/anaconda3/lib/python3.7/site-packages/pandas/core/indexing.py:670: SettingWithCopyWarning: \n",
      "A value is trying to be set on a copy of a slice from a DataFrame\n",
      "\n",
      "See the caveats in the documentation: https://pandas.pydata.org/pandas-docs/stable/user_guide/indexing.html#returning-a-view-versus-a-copy\n",
      "  self._setitem_with_indexer(indexer, value)\n",
      "100%|██████████| 34/34 [00:23<00:00,  1.53s/it]"
     ]
    }
   ],
   "source": [
    "qty = []\n",
    "bar = tqdm(total=len(year)*2)\n",
    "for i in year:\n",
    "    \n",
    "    # ingredientファイルを読み込む\n",
    "    ingredient = pd.read_csv(f\"/Users/tamuramasayuki/Desktop/3S/基礎プロジェクトB/programming/dataset/ingredient/ingredient{i}.csv\",\n",
    "                                      names=col_names_ingredient, usecols=[0, 1])\n",
    "\n",
    "    \n",
    "    # ingredientからオリーブオイルの行だけ抽出する\n",
    "    ingredient_oliveoil = ingredient[ingredient[\"ingredient\"].isin([\"オリーブオイル\", \"オリーブ油\", \"おりーぶおいる\"])]\n",
    "    df = ingredient_oliveoil.assign(report_qty=0)\n",
    "    \n",
    "    bar.update(1)\n",
    "    \n",
    "    \n",
    "    # dfはオリーブオイルを使ったレシピのidなので、つくレポ数を結びつける\n",
    "    for j in range(len(df)):\n",
    "        try:\n",
    "            df[\"report_qty\"].iloc[j] = vc[df[\"recipe_id\"].iloc[j]]\n",
    "        except:\n",
    "            continue\n",
    "\n",
    "    qty = np.append(qty, df.loc[:, \"report_qty\"].values)\n",
    "        \n",
    "    bar.update(1)"
   ]
  },
  {
   "cell_type": "markdown",
   "metadata": {},
   "source": [
    "↑プログレスバー全然いうこと聞いてくれん..."
   ]
  },
  {
   "cell_type": "code",
   "execution_count": 5,
   "metadata": {},
   "outputs": [
    {
     "data": {
      "text/plain": [
       "Text(0.5, 1.0, 'Report Quantity Distribution')"
      ]
     },
     "execution_count": 5,
     "metadata": {},
     "output_type": "execute_result"
    },
    {
     "data": {
      "image/png": "[encoded data removed]",
      "text/plain": [
       "<Figure size 432x288 with 1 Axes>"
      ]
     },
     "metadata": {
      "needs_background": "light"
     },
     "output_type": "display_data"
    }
   ],
   "source": [
    "plt.hist(qty, bins=100)\n",
    "plt.title(\"Report Quantity Distribution\")"
   ]
  },
  {
   "cell_type": "markdown",
   "metadata": {},
   "source": [
    "分布が偏りすぎて分布が見にくいので、つくレポ数が100より大きいレシピだけで分布を描画する"
   ]
  },
  {
   "cell_type": "code",
   "execution_count": 6,
   "metadata": {},
   "outputs": [
    {
     "data": {
      "text/plain": [
       "Text(0.5, 1.0, 'above 100')"
      ]
     },
     "execution_count": 6,
     "metadata": {},
     "output_type": "execute_result"
    },
    {
     "data": {
      "image/png": "[encoded data removed]",
      "text/plain": [
       "<Figure size 432x288 with 1 Axes>"
      ]
     },
     "metadata": {
      "needs_background": "light"
     },
     "output_type": "display_data"
    }
   ],
   "source": [
    "qty_above100 = []\n",
    "for i in range(len(qty)):\n",
    "    if qty[i] > 100:\n",
    "        qty_above100.append(qty[i])\n",
    "plt.hist(qty_above100, bins=100)\n",
    "plt.title(\"above 100\")"
   ]
  },
  {
   "cell_type": "markdown",
   "metadata": {},
   "source": [
    "## オリーブオイルにあう材料を抽出する\n",
    "\n",
    "本当はingredientのカタカナとひらがなを統一したり、記号を削除したりしたかったが諦めた"
   ]
  },
  {
   "cell_type": "code",
   "execution_count": 6,
   "metadata": {},
   "outputs": [],
   "source": [
    "oliveoil_id = ingredient_oliveoil.drop([\"ingredient\"], axis=1)"
   ]
  },
  {
   "cell_type": "code",
   "execution_count": 7,
   "metadata": {},
   "outputs": [],
   "source": [
    "df_i = pd.merge(ingredient, oliveoil_id, on=\"recipe_id\", how=\"right\")"
   ]
  },
  {
   "cell_type": "code",
   "execution_count": 8,
   "metadata": {},
   "outputs": [
    {
     "data": {
      "text/html": [
       "<div>\n",
       "<style scoped>\n",
       "    .dataframe tbody tr th:only-of-type {\n",
       "        vertical-align: middle;\n",
       "    }\n",
       "\n",
       "    .dataframe tbody tr th {\n",
       "        vertical-align: top;\n",
       "    }\n",
       "\n",
       "    .dataframe thead th {\n",
       "        text-align: right;\n",
       "    }\n",
       "</style>\n",
       "<table border=\"1\" class=\"dataframe\">\n",
       "  <thead>\n",
       "    <tr style=\"text-align: right;\">\n",
       "      <th></th>\n",
       "      <th>recipe_id</th>\n",
       "      <th>ingredient</th>\n",
       "    </tr>\n",
       "  </thead>\n",
       "  <tbody>\n",
       "    <tr>\n",
       "      <td>0</td>\n",
       "      <td>04324210352066234d6eb43866b34695cb541d31</td>\n",
       "      <td>鮭</td>\n",
       "    </tr>\n",
       "    <tr>\n",
       "      <td>1</td>\n",
       "      <td>04324210352066234d6eb43866b34695cb541d31</td>\n",
       "      <td>たまねぎ</td>\n",
       "    </tr>\n",
       "    <tr>\n",
       "      <td>2</td>\n",
       "      <td>04324210352066234d6eb43866b34695cb541d31</td>\n",
       "      <td>しめじ</td>\n",
       "    </tr>\n",
       "    <tr>\n",
       "      <td>3</td>\n",
       "      <td>04324210352066234d6eb43866b34695cb541d31</td>\n",
       "      <td>白ワイン</td>\n",
       "    </tr>\n",
       "    <tr>\n",
       "      <td>4</td>\n",
       "      <td>04324210352066234d6eb43866b34695cb541d31</td>\n",
       "      <td>オリーブオイル</td>\n",
       "    </tr>\n",
       "  </tbody>\n",
       "</table>\n",
       "</div>"
      ],
      "text/plain": [
       "                                  recipe_id ingredient\n",
       "0  04324210352066234d6eb43866b34695cb541d31          鮭\n",
       "1  04324210352066234d6eb43866b34695cb541d31       たまねぎ\n",
       "2  04324210352066234d6eb43866b34695cb541d31        しめじ\n",
       "3  04324210352066234d6eb43866b34695cb541d31       白ワイン\n",
       "4  04324210352066234d6eb43866b34695cb541d31    オリーブオイル"
      ]
     },
     "execution_count": 8,
     "metadata": {},
     "output_type": "execute_result"
    }
   ],
   "source": [
    "df_i.head()"
   ]
  },
  {
   "cell_type": "code",
   "execution_count": 9,
   "metadata": {},
   "outputs": [
    {
     "name": "stdout",
     "output_type": "stream",
     "text": [
      "12684461 1098060\n"
     ]
    }
   ],
   "source": [
    "print(len(ingredient), len(df_i))"
   ]
  },
  {
   "cell_type": "code",
   "execution_count": 10,
   "metadata": {},
   "outputs": [],
   "source": [
    "df_i.drop([\"recipe_id\"], axis=1, inplace=True)"
   ]
  },
  {
   "cell_type": "code",
   "execution_count": 11,
   "metadata": {},
   "outputs": [],
   "source": [
    "df_i = df_i[~df_i[\"ingredient\"].isin([\"オリーブオイル\", \"オリーブ油\", \"おりーぶおいる\"])]"
   ]
  },
  {
   "cell_type": "code",
   "execution_count": 12,
   "metadata": {},
   "outputs": [
    {
     "data": {
      "text/html": [
       "<div>\n",
       "<style scoped>\n",
       "    .dataframe tbody tr th:only-of-type {\n",
       "        vertical-align: middle;\n",
       "    }\n",
       "\n",
       "    .dataframe tbody tr th {\n",
       "        vertical-align: top;\n",
       "    }\n",
       "\n",
       "    .dataframe thead th {\n",
       "        text-align: right;\n",
       "    }\n",
       "</style>\n",
       "<table border=\"1\" class=\"dataframe\">\n",
       "  <thead>\n",
       "    <tr style=\"text-align: right;\">\n",
       "      <th></th>\n",
       "      <th>ingredient</th>\n",
       "    </tr>\n",
       "  </thead>\n",
       "  <tbody>\n",
       "    <tr>\n",
       "      <td>0</td>\n",
       "      <td>鮭</td>\n",
       "    </tr>\n",
       "    <tr>\n",
       "      <td>1</td>\n",
       "      <td>たまねぎ</td>\n",
       "    </tr>\n",
       "    <tr>\n",
       "      <td>2</td>\n",
       "      <td>しめじ</td>\n",
       "    </tr>\n",
       "    <tr>\n",
       "      <td>3</td>\n",
       "      <td>白ワイン</td>\n",
       "    </tr>\n",
       "    <tr>\n",
       "      <td>5</td>\n",
       "      <td>ハーブ</td>\n",
       "    </tr>\n",
       "  </tbody>\n",
       "</table>\n",
       "</div>"
      ],
      "text/plain": [
       "  ingredient\n",
       "0          鮭\n",
       "1       たまねぎ\n",
       "2        しめじ\n",
       "3       白ワイン\n",
       "5        ハーブ"
      ]
     },
     "execution_count": 12,
     "metadata": {},
     "output_type": "execute_result"
    }
   ],
   "source": [
    "df_i.head()"
   ]
  },
  {
   "cell_type": "code",
   "execution_count": 21,
   "metadata": {},
   "outputs": [
    {
     "data": {
      "text/plain": [
       "塩           38624\n",
       "にんにく        26102\n",
       "玉ねぎ         20942\n",
       "水           13726\n",
       "塩コショウ       12987\n",
       "パスタ         12760\n",
       "トマト         12451\n",
       "ニンニク        12136\n",
       "ベーコン        10453\n",
       "バター          9514\n",
       "砂糖           9345\n",
       "白ワイン         9007\n",
       "醤油           7897\n",
       "牛乳           7632\n",
       "卵            7465\n",
       "小麦粉          6138\n",
       "レモン汁         5667\n",
       "しめじ          5504\n",
       "コンソメ         5403\n",
       "粉チーズ         5328\n",
       "じゃがいも        5325\n",
       "ブラックペッパー     5283\n",
       "人参           5185\n",
       "パセリ          5110\n",
       "ピーマン         5075\n",
       "こしょう         4944\n",
       "鷹の爪          4693\n",
       "キャベツ         4691\n",
       "たまねぎ         4659\n",
       "マヨネーズ        4654\n",
       "ケチャップ        4579\n",
       "胡椒           4572\n",
       "にんじん         4300\n",
       "生クリーム        4270\n",
       "塩・こしょう       4265\n",
       "バジル          4190\n",
       "薄力粉          3841\n",
       "塩こしょう        3795\n",
       "ローリエ         3778\n",
       "ズッキーニ        3745\n",
       "コショウ         3559\n",
       "強力粉          3506\n",
       "酒            3422\n",
       "パルメザンチーズ     3370\n",
       "トマト缶         3271\n",
       "酢            3254\n",
       "ブロッコリー       3208\n",
       "セロリ          3181\n",
       "しょうゆ         3176\n",
       "エリンギ         3058\n",
       "なす           2970\n",
       "塩・胡椒         2949\n",
       "パン粉          2939\n",
       "プチトマト        2934\n",
       "クレイジーソルト     2897\n",
       "ミニトマト        2807\n",
       "鶏もも肉         2672\n",
       "とろけるチーズ      2663\n",
       "スパゲティ        2623\n",
       "Name: ingredient, dtype: int64"
      ]
     },
     "execution_count": 21,
     "metadata": {},
     "output_type": "execute_result"
    }
   ],
   "source": [
    "df_i[\"ingredient\"].value_counts()[:59]"
   ]
  },
  {
   "cell_type": "code",
   "execution_count": null,
   "metadata": {},
   "outputs": [],
   "source": [
    "text = re.sub('✴️・●-☆・＊■★?！＃＄％＆１２３４５|（[^）]*）', '', text)"
   ]
  },
  {
   "cell_type": "code",
   "execution_count": 169,
   "metadata": {},
   "outputs": [],
   "source": [
    "df.to_csv('ingredients_with_oliveoil.csv', header=False, index=False)"
   ]
  },
  {
   "cell_type": "code",
   "execution_count": null,
   "metadata": {},
   "outputs": [],
   "source": []
  }
 ],
 "metadata": {
  "kernelspec": {
   "display_name": "Python 3",
   "language": "python",
   "name": "python3"
  },
  "language_info": {
   "codemirror_mode": {
    "name": "ipython",
    "version": 3
   },
   "file_extension": ".py",
   "mimetype": "text/x-python",
   "name": "python",
   "nbconvert_exporter": "python",
   "pygments_lexer": "ipython3",
   "version": "3.7.6"
  }
 },
 "nbformat": 4,
 "nbformat_minor": 4
}
